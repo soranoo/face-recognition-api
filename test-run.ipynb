{
 "cells": [
  {
   "cell_type": "markdown",
   "metadata": {},
   "source": [
    "# Test Run"
   ]
  },
  {
   "cell_type": "code",
   "execution_count": 7,
   "metadata": {},
   "outputs": [],
   "source": [
    "import requests\n",
    "from PIL import Image\n",
    "from io import BytesIO\n",
    "import json\n",
    "\n",
    "BASE_URL = \"http://localhost:8000\"\n",
    "TENANT_ID = \"tenant_1\"\n",
    "AUTH_TOKEN = \"<your-own-bearer-token>\"\n",
    "\n",
    "headers = {\n",
    "    \"token\": AUTH_TOKEN\n",
    "}\n"
   ]
  },
  {
   "cell_type": "code",
   "execution_count": null,
   "metadata": {},
   "outputs": [],
   "source": [
    "from deepface import DeepFace\n",
    "\n",
    "image_path = \"./data/sample/1.jpg\"\n",
    "\n",
    "# plot image\n",
    "import matplotlib.pyplot as plt\n",
    "import matplotlib.image as mpimg\n",
    "\n",
    "# Run DeepFace\n",
    "face_objs  = DeepFace.extract_faces(img_path=image_path, detector_backend=\"mtcnn\")\n",
    "print(face_objs)\n",
    "\n",
    "\n",
    "# Mark the region of face\n",
    "# img = mpimg.imread(image_path)\n",
    "# plt.imshow(img)\n",
    "# plt.axis('off')\n",
    "# for face in face_objs:\n",
    "#     x,y,w,h = face[\"region\"]\n",
    "#     rect = plt.Rectangle((x, y), w, h, fill=False, color='red')\n",
    "#     plt.gca().add_patch(rect)\n",
    "# plt.show()\n"
   ]
  },
  {
   "cell_type": "code",
   "execution_count": null,
   "metadata": {},
   "outputs": [],
   "source": [
    "for face_obj in face_objs:\n",
    "  # get all keys\n",
    "  keys = face_obj.keys()\n",
    "  facial_area = face_obj[\"facial_area\"]\n",
    "  x = facial_area[\"x\"]\n",
    "  y = facial_area[\"y\"]\n",
    "  w = facial_area[\"w\"]\n",
    "  h = facial_area[\"h\"]\n",
    "  # get the face image using mpimg\n",
    "  img = mpimg.imread(image_path)\n",
    "  plt.imshow(img)\n",
    "  plt.gca().add_patch(plt.Rectangle((x, y), w, h, fill=False, color='red'))\n",
    "  plt.axis('off')\n",
    "  plt.show()\n",
    "  face_embedding = DeepFace.represent(face_obj[\"face\"], model_name=\"Facenet\", enforce_detection=False)\n",
    "  print(face_embedding)\n",
    "  \n",
    "  \n",
    "  # print px\n",
    "  print(f\"face area: {x}, {y}, {w}, {h}, {w*h}px\")\n",
    "  \n",
    "  print(facial_area, face_obj[\"confidence\"])\n",
    "  "
   ]
  },
  {
   "cell_type": "markdown",
   "metadata": {},
   "source": [
    "## Insert Image"
   ]
  },
  {
   "cell_type": "code",
   "execution_count": null,
   "metadata": {},
   "outputs": [],
   "source": [
    "with open(image_path, \"rb\") as image_file:\n",
    "    response = requests.post(f\"{BASE_URL}/insert-image\", files={\"image\": image_file}, data={\"tenant_id\": TENANT_ID}, headers=headers)\n",
    "    print(response.json())\n",
    "    image_id = response.json().get(\"image_id\")\n"
   ]
  },
  {
   "cell_type": "markdown",
   "metadata": {},
   "source": [
    "## Delete Image"
   ]
  },
  {
   "cell_type": "code",
   "execution_count": null,
   "metadata": {},
   "outputs": [],
   "source": [
    "response = requests.delete(f\"{BASE_URL}/delete-image\", data={\"tenant_id\": TENANT_ID, \"image_id\": image_id}, headers=headers)\n",
    "print(response.json())\n"
   ]
  },
  {
   "cell_type": "markdown",
   "metadata": {},
   "source": [
    "## Delete Face"
   ]
  },
  {
   "cell_type": "code",
   "execution_count": null,
   "metadata": {},
   "outputs": [],
   "source": [
    "face_id = \"face_id_to_delete\"\n",
    "response = requests.delete(f\"{BASE_URL}/delete-face\", data={\"tenant_id\": TENANT_ID, \"face_id\": face_id}, headers=headers)\n",
    "print(response.json())\n"
   ]
  },
  {
   "cell_type": "markdown",
   "metadata": {},
   "source": [
    "## Delete Cluster"
   ]
  },
  {
   "cell_type": "code",
   "execution_count": null,
   "metadata": {},
   "outputs": [],
   "source": [
    "CLUSTER_ID = \"cluster_id_to_delete\"\n",
    "response = requests.delete(f\"{BASE_URL}/cluster\", data={\"tenant_id\": TENANT_ID, \"cluster_id\": CLUSTER_ID}, headers=headers)\n",
    "print(response.json())\n"
   ]
  },
  {
   "cell_type": "markdown",
   "metadata": {},
   "source": [
    "## Delete Tenant"
   ]
  },
  {
   "cell_type": "code",
   "execution_count": null,
   "metadata": {},
   "outputs": [],
   "source": [
    "response = requests.delete(f\"{BASE_URL}/tenant\", data={\"tenant_id\": TENANT_ID}, headers=headers)\n",
    "print(response.json())\n"
   ]
  },
  {
   "cell_type": "markdown",
   "metadata": {},
   "source": [
    "## Get Pending Review"
   ]
  },
  {
   "cell_type": "code",
   "execution_count": null,
   "metadata": {},
   "outputs": [],
   "source": [
    "REVIEW_ID = \"review_id_to_get\"\n",
    "response = requests.get(f\"{BASE_URL}/review-pending\", data={\"tenant_id\": TENANT_ID, \"review_id\": REVIEW_ID}, headers=headers)\n",
    "print(response.json())\n"
   ]
  },
  {
   "cell_type": "markdown",
   "metadata": {},
   "source": [
    "## Get PendingReview List"
   ]
  },
  {
   "cell_type": "code",
   "execution_count": null,
   "metadata": {},
   "outputs": [],
   "source": [
    "response = requests.get(f\"{BASE_URL}/review-pending-list\", params={\"tenant_id\": TENANT_ID}, headers=headers)\n",
    "print(response.json())\n"
   ]
  },
  {
   "cell_type": "markdown",
   "metadata": {},
   "source": [
    "## Delete Pending Review"
   ]
  },
  {
   "cell_type": "code",
   "execution_count": null,
   "metadata": {},
   "outputs": [],
   "source": [
    "REVIEW_ID = \"review_id_to_delete\"\n",
    "response = requests.delete(f\"{BASE_URL}/review-pending\", params={\"tenant_id\": TENANT_ID, \"review_id\": REVIEW_ID}, headers=headers)\n",
    "print(response.json())\n"
   ]
  },
  {
   "cell_type": "markdown",
   "metadata": {},
   "source": [
    "## Update Face Cluster"
   ]
  },
  {
   "cell_type": "code",
   "execution_count": null,
   "metadata": {},
   "outputs": [],
   "source": [
    "FACE_ID = \"face_id_to_update\"\n",
    "TO_CLUSTER_ID = \"target_cluster_id\"\n",
    "response = requests.post(f\"{BASE_URL}/update-face-cluster\", params={\"tenant_id\": TENANT_ID, \"face_id\": FACE_ID, \"to_cluster_id\": TO_CLUSTER_ID}, headers=headers)\n",
    "print(response.json())\n"
   ]
  },
  {
   "cell_type": "markdown",
   "metadata": {},
   "source": [
    "## Get Face"
   ]
  },
  {
   "cell_type": "code",
   "execution_count": null,
   "metadata": {},
   "outputs": [],
   "source": [
    "FACE_ID = \"face_id_to_get\"\n",
    "response = requests.get(f\"{BASE_URL}/face\", params={\"tenant_id\": TENANT_ID, \"face_id\": FACE_ID}, headers=headers)\n",
    "print(response.json())\n"
   ]
  },
  {
   "cell_type": "markdown",
   "metadata": {},
   "source": [
    "## Get Cluster"
   ]
  },
  {
   "cell_type": "code",
   "execution_count": null,
   "metadata": {},
   "outputs": [],
   "source": [
    "CLUSTER_ID = \"cluster_id_to_get\"\n",
    "response = requests.get(f\"{BASE_URL}/cluster\", params={\"tenant_id\": TENANT_ID, \"cluster_id\": FACE_ID}, headers=headers)\n",
    "print(response.json())\n"
   ]
  },
  {
   "cell_type": "markdown",
   "metadata": {},
   "source": [
    "## Get Image"
   ]
  },
  {
   "cell_type": "code",
   "execution_count": null,
   "metadata": {},
   "outputs": [],
   "source": [
    "IMAGE_ID = \"image_id_to_get\"\n",
    "response = requests.get(f\"{BASE_URL}/image\", params={\"tenant_id\": TENANT_ID, \"image_id\": IMAGE_ID}, headers=headers)\n",
    "print(response.json())\n"
   ]
  },
  {
   "cell_type": "markdown",
   "metadata": {},
   "source": [
    "## Get Faces"
   ]
  },
  {
   "cell_type": "code",
   "execution_count": null,
   "metadata": {},
   "outputs": [],
   "source": [
    "IMAGE_ID = \"image_id_to_get\"\n",
    "response = requests.get(f\"{BASE_URL}/faces\", params={\"tenant_id\": TENANT_ID, \"image_id\": IMAGE_ID}, headers=headers)\n",
    "print(response.json())\n"
   ]
  }
 ],
 "metadata": {
  "kernelspec": {
   "display_name": "env",
   "language": "python",
   "name": "python3"
  },
  "language_info": {
   "codemirror_mode": {
    "name": "ipython",
    "version": 3
   },
   "file_extension": ".py",
   "mimetype": "text/x-python",
   "name": "python",
   "nbconvert_exporter": "python",
   "pygments_lexer": "ipython3",
   "version": "3.12.5"
  }
 },
 "nbformat": 4,
 "nbformat_minor": 2
}
